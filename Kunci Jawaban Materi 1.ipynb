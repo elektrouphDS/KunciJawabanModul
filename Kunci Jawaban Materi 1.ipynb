{
 "cells": [
  {
   "cell_type": "markdown",
   "metadata": {},
   "source": [
    "# KUNCI JAWABAN MATERI 1"
   ]
  },
  {
   "cell_type": "markdown",
   "metadata": {},
   "source": [
    "## 1. Untuk cek apakah versi dari library sudah up to date, bisa gunakan command berikut pada Anaconda Prompt"
   ]
  },
  {
   "cell_type": "markdown",
   "metadata": {},
   "source": [
    "conda update #nama_library"
   ]
  },
  {
   "cell_type": "markdown",
   "metadata": {},
   "source": [
    "## Atau gunakan command berikut untuk update seluruh library"
   ]
  },
  {
   "cell_type": "markdown",
   "metadata": {},
   "source": [
    "conda update -all"
   ]
  },
  {
   "cell_type": "markdown",
   "metadata": {},
   "source": [
    "## 2. (a) Buat virtual environment pada komputer dengan file Viren01.yml lalu tuliskan spesifikasi dari virtual environment tersebut!"
   ]
  },
  {
   "cell_type": "markdown",
   "metadata": {},
   "source": [
    "- ca-certificates=2020.1.1=0\n",
    "- certifi=2020.4.5.1=py38_0\n",
    "- openssl=1.1.1g=he774522_0\n",
    "- pip=20.0.2=py38_3\n",
    "- python=3.8.2=he1778fa_13\n",
    "- setuptools=46.2.0=py38_0\n",
    "- sqlite=3.31.1=h2a8f88b_1\n",
    "- vc=14.1=h0510ff6_4\n",
    "- vs2015_runtime=14.16.27012=hf0eaf9b_1\n",
    "- wheel=0.34.2=py38_0\n",
    "- wincertstore=0.2=py38_0\n",
    "- zlib=1.2.11=h62dcd97_4"
   ]
  },
  {
   "cell_type": "markdown",
   "metadata": {},
   "source": [
    "## 2. (b) Untuk cek apakah versi dari library sudah up to date, bisa gunakan command berikut pada Anaconda Prompt"
   ]
  },
  {
   "cell_type": "markdown",
   "metadata": {},
   "source": [
    "conda update #nama_library"
   ]
  },
  {
   "cell_type": "markdown",
   "metadata": {},
   "source": [
    "## 3.\tApa yang Anda ketahui tentang data science?  "
   ]
  },
  {
   "cell_type": "markdown",
   "metadata": {},
   "source": [
    "Keypoints :\n",
    "- Bidang multi disiplin antara matematika, computer science, dan satu expertise domain seperti business / engineering\n",
    "- Bidang ilmu yang mempelajari pengolahan data untuk mendapatkan insight dan pengetahuan dari data yang tidak bisa diolah dengan teknik pengolahan biasa dan berukuran besar\n",
    "- Ada 4 tahap, descriptive, diagnostic, predictive, dan prescriptive\n",
    "- Biasanya menggunakan machine learning, terbagi menjadi beberapa jenis, yaitu supervised, unsupervised, semi-supervised, deep learning, dan reinforced learning\n",
    "- Orang yang melakukan data science disebut data scientist"
   ]
  },
  {
   "cell_type": "markdown",
   "metadata": {},
   "source": [
    "#### Reference:\n",
    "- https://docs.conda.io/projects/conda/en/latest/user-guide/tasks/manage-pkgs.html\n",
    "- Personal document from online courses"
   ]
  },
  {
   "cell_type": "code",
   "execution_count": null,
   "metadata": {},
   "outputs": [],
   "source": []
  }
 ],
 "metadata": {
  "kernelspec": {
   "display_name": "Python 3",
   "language": "python",
   "name": "python3"
  },
  "language_info": {
   "codemirror_mode": {
    "name": "ipython",
    "version": 3
   },
   "file_extension": ".py",
   "mimetype": "text/x-python",
   "name": "python",
   "nbconvert_exporter": "python",
   "pygments_lexer": "ipython3",
   "version": "3.7.3"
  }
 },
 "nbformat": 4,
 "nbformat_minor": 2
}
