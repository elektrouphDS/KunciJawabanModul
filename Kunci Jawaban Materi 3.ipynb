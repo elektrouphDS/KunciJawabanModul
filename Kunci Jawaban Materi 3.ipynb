{
 "cells": [
  {
   "cell_type": "markdown",
   "metadata": {},
   "source": [
    "# KUNCI JAWABAN MODUL 3"
   ]
  },
  {
   "cell_type": "markdown",
   "metadata": {},
   "source": [
    "## 1)\tApa yang dimaksud dengan standar deviasi? Apa hubungan antara besar standar deviasi dan variance data?"
   ]
  },
  {
   "cell_type": "markdown",
   "metadata": {},
   "source": [
    "Standar deviasi : besaran yang menyatakan distribusi data."
   ]
  },
  {
   "cell_type": "markdown",
   "metadata": {},
   "source": [
    "Variance : rata - rata dari kuadrat data"
   ]
  },
  {
   "cell_type": "markdown",
   "metadata": {},
   "source": [
    "## 2)\tApa itu skewness? Apa makna dari angka skewness tersebut dan hubungannya dengan angka yang positif dan negatif?"
   ]
  },
  {
   "cell_type": "markdown",
   "metadata": {},
   "source": [
    "Skewness : kecondongan dari distribusi data"
   ]
  },
  {
   "cell_type": "markdown",
   "metadata": {},
   "source": [
    "(+) : condong ke kiri, (-) : condong ke kanan"
   ]
  },
  {
   "cell_type": "markdown",
   "metadata": {},
   "source": [
    "## 3)\tBerapa data yang termasuk ke dalam kategori outliers menurut metode IQR?"
   ]
  },
  {
   "cell_type": "markdown",
   "metadata": {},
   "source": [
    "17"
   ]
  },
  {
   "cell_type": "markdown",
   "metadata": {},
   "source": [
    "## 4)\tApa yang membedakan standarisasi dan normalisasi?"
   ]
  },
  {
   "cell_type": "markdown",
   "metadata": {},
   "source": [
    "Standarisasi : mengubah value setiap kolom menjadi mean = 0, std = 1"
   ]
  },
  {
   "cell_type": "markdown",
   "metadata": {},
   "source": [
    "Normalisasi : membagi value tiap kolom dengan value maksimum pada kolom"
   ]
  },
  {
   "cell_type": "markdown",
   "metadata": {},
   "source": [
    "## 5)\tApa yang terjadi jika standar deviasi pada data diubah menjadi 1? "
   ]
  },
  {
   "cell_type": "markdown",
   "metadata": {},
   "source": [
    "Data akan terkumpul sekitar mean, lihat grafik di google."
   ]
  },
  {
   "cell_type": "markdown",
   "metadata": {},
   "source": [
    "## 6)\tJika dekomposisi principal component diubah menjadi 3 principal component, berapa total variance ratio yang diwakilkan ketiga komponen tersebut?"
   ]
  },
  {
   "cell_type": "markdown",
   "metadata": {},
   "source": [
    "68.89%"
   ]
  },
  {
   "cell_type": "markdown",
   "metadata": {},
   "source": [
    "## 7)\tApa yang dimaksud dengan inertia pada algoritma K-Means Clustering? Apakah ada metric untuk menyatakan bahwa nilai K yang dipilih merupakan K yang cocok untuk algoritma ini?"
   ]
  },
  {
   "cell_type": "markdown",
   "metadata": {},
   "source": [
    "Silhouette Score : menggambarkan degree of separation cluster a dengan cluster lain. Rentang nilai dari -1 sampai 1. Nilai -1 artinya cluster saling menempel dan 1 artinya saling terpisah."
   ]
  },
  {
   "cell_type": "markdown",
   "metadata": {},
   "source": [
    "## 8)\tBuatlah suatu analisis clustering dengan menggunakan PCA yang memiliki 3 principal component! Visualisasikan hasil clustering dan karakteristik tiap klaster. "
   ]
  },
  {
   "cell_type": "markdown",
   "metadata": {},
   "source": [
    "a)\tBerapa nilai K yang cocok untuk dataset dengan PCA 3 komponen?\n",
    "- 3 klaster"
   ]
  },
  {
   "cell_type": "markdown",
   "metadata": {},
   "source": [
    "b)\tApa perbedaan yang tampak pada hasil clustering?\n",
    "- Secara sekilas, terdapat dua klaster besar. Terdapat satu klaster di bagian kiri, dan ada satu klaster yang lebih besar dikanan."
   ]
  },
  {
   "cell_type": "markdown",
   "metadata": {},
   "source": [
    "c)\tApakah centroid benar terletak pada data yang saling berkumpul?\n",
    "- Setelah melakukan elbow method, nilai K optimum adalah k = 3. Centroid berada di perkumpulan data"
   ]
  },
  {
   "cell_type": "markdown",
   "metadata": {},
   "source": [
    "d)\tSeperti apa karakteristik dari setiap klaster? \n",
    "- Karakteristik dapat dijelaskan dengan histogram pada setiap variabel bebas setelah melakukan reverse transform pada PCA"
   ]
  },
  {
   "cell_type": "markdown",
   "metadata": {},
   "source": [
    "###### Kode & hasil visualisasi PCA-3 komponen ada pada file yang sama dengan kode PCA-2 komponen"
   ]
  },
  {
   "cell_type": "code",
   "execution_count": null,
   "metadata": {},
   "outputs": [],
   "source": []
  }
 ],
 "metadata": {
  "kernelspec": {
   "display_name": "Python 3",
   "language": "python",
   "name": "python3"
  },
  "language_info": {
   "codemirror_mode": {
    "name": "ipython",
    "version": 3
   },
   "file_extension": ".py",
   "mimetype": "text/x-python",
   "name": "python",
   "nbconvert_exporter": "python",
   "pygments_lexer": "ipython3",
   "version": "3.7.3"
  }
 },
 "nbformat": 4,
 "nbformat_minor": 2
}
