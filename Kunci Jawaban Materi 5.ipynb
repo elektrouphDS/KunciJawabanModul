{
 "cells": [
  {
   "cell_type": "markdown",
   "metadata": {},
   "source": [
    "# KUNCI JAWABAN MODUL 5"
   ]
  },
  {
   "cell_type": "markdown",
   "metadata": {},
   "source": [
    "## 1)\tApa itu One Hot Encoder? Encoder jenis apa saja yang tersedia dalam library Scikit-learn dan apa kelebihan dan kekurangan dari masing – masing encoder?"
   ]
  },
  {
   "cell_type": "markdown",
   "metadata": {},
   "source": [
    "One Hot Encoder : Encoding untuk categorical variable. Encoding ini membagi dari 1 kolom categorical menjadi n kolom. Nilai n sesuai dengan jumlah pilihan kategori dalam kolom awal. Jika pada awal kolom terdapat 3 pilihan jawaban, maka kolom tsb akan dipecah menjadi 3 kolom. "
   ]
  },
  {
   "cell_type": "markdown",
   "metadata": {},
   "source": [
    "Jenis lain : Label Encoder"
   ]
  },
  {
   "cell_type": "markdown",
   "metadata": {},
   "source": [
    "Melakukan encoding dari string menjadi angka. Contoh : (Apel, Jeruk, Melon) --> (1, 2, 3)"
   ]
  },
  {
   "cell_type": "markdown",
   "metadata": {},
   "source": [
    "Kelemahan : terjadi bias, karena melon = 3, maka Melon > Jeruk > Apel. Dengan One Hot Encoder, tidak terjadi bias."
   ]
  },
  {
   "cell_type": "markdown",
   "metadata": {},
   "source": [
    "## 2)\tApa itu entropy pada Decision Tree? Apa yang membedakan entropy dan gini index?"
   ]
  },
  {
   "cell_type": "markdown",
   "metadata": {},
   "source": [
    "Entropy dan gini index sama - sama mengukur tingkat impurity dari node. Perbedaan hanya ada pada rumus."
   ]
  },
  {
   "cell_type": "markdown",
   "metadata": {},
   "source": [
    "## 3)\tApa itu meta-algorithm Bagging? Bagaimana cara kerjanya dan mengapa algoritma itu bisa sangat powerful untuk ensemble learning?"
   ]
  },
  {
   "cell_type": "markdown",
   "metadata": {},
   "source": [
    "Bootstrap Aggregating : membagi sampel menjadi beberapa bagian. Setiap learner yang di-ensemble akan menggunakan bagian yang terbagi tersebut lalu melakukan prediksi. Metode ini menyebabkan learner tidak saling korelasi (tidak mirip) dan variance dari data akan semakin tinggi."
   ]
  },
  {
   "cell_type": "markdown",
   "metadata": {},
   "source": [
    "## 4)\tApa itu overfitting? Apa yang membedakan overfitting dengan underfitting?"
   ]
  },
  {
   "cell_type": "markdown",
   "metadata": {},
   "source": [
    "Overfitting adalah kejadian ketika suatu model memiliki performa yang baik pada saat training (akurasi sangat tinggi), namun tingkat akurasi tersebut akan menurun jauh saat testing. Hal tersebut terjadi karena model mempelajari dataset training terlalu baik sehingga tidak bisa melakukan prediksi dengan baik ketika diberikan data baru."
   ]
  },
  {
   "cell_type": "markdown",
   "metadata": {},
   "source": [
    "## 5)\tApa saja metric yang terkandung pada classification report? Jelaskan masing – masing metric tersebut!"
   ]
  },
  {
   "cell_type": "markdown",
   "metadata": {},
   "source": [
    "### Accuracy"
   ]
  },
  {
   "cell_type": "markdown",
   "metadata": {},
   "source": [
    "Probabilitas prediksi benar. (True predictions) / (Total predictions)"
   ]
  },
  {
   "cell_type": "markdown",
   "metadata": {},
   "source": [
    "Total keseluruhan prediksi benar dari total data.  Semakin mendekati 1, semakin baik."
   ]
  },
  {
   "cell_type": "markdown",
   "metadata": {},
   "source": [
    "### Precision"
   ]
  },
  {
   "cell_type": "markdown",
   "metadata": {},
   "source": [
    "Precision = TP / (TP+FP)"
   ]
  },
  {
   "cell_type": "markdown",
   "metadata": {},
   "source": [
    "Mengukur seberapa akurat model melakukan prediksi positif."
   ]
  },
  {
   "cell_type": "markdown",
   "metadata": {},
   "source": [
    "### Recall a.k.a sensitivity. "
   ]
  },
  {
   "cell_type": "markdown",
   "metadata": {},
   "source": [
    "Recall = TP / FN + TP"
   ]
  },
  {
   "cell_type": "markdown",
   "metadata": {},
   "source": [
    "keberhasilan menangkap nilai positif. Semakin mendekati 1, semakin baik."
   ]
  },
  {
   "cell_type": "markdown",
   "metadata": {},
   "source": [
    "### f1-score"
   ]
  },
  {
   "cell_type": "markdown",
   "metadata": {},
   "source": [
    "f1 = 2* ((Precision x Recall) / (Precision x Recall))"
   ]
  },
  {
   "cell_type": "markdown",
   "metadata": {},
   "source": [
    "menghitung keseimbangan dari precision dan recall. semakin mendekati 1 maka semakin baik."
   ]
  },
  {
   "cell_type": "markdown",
   "metadata": {},
   "source": [
    "## 6) Apa saja angka yang ditampilkan pada confusion matrix? Apa maksud dari setiap angka tersebut?"
   ]
  },
  {
   "cell_type": "markdown",
   "metadata": {},
   "source": [
    "TP : True Positive -- Seharusnya benar, diprediksi benar"
   ]
  },
  {
   "cell_type": "markdown",
   "metadata": {},
   "source": [
    "FP : False Positive -- Seharusnya salah, diprediksi benar"
   ]
  },
  {
   "cell_type": "markdown",
   "metadata": {},
   "source": [
    "FN : Seharusnya benar, diprediksi salah"
   ]
  },
  {
   "cell_type": "markdown",
   "metadata": {},
   "source": [
    "TN : True Negative -- Seharusnya salah, diprediksi salah"
   ]
  },
  {
   "cell_type": "markdown",
   "metadata": {},
   "source": [
    "## Buatlah suatu analisis baru (menggunakan Decision Tree dan Random Forest) dengan melakukan data cleansing untuk data yang tidak sesuai syarat IQR (untuk numerical variable)! Lakukan juga data cleansing dengan membuang kolom (untuk categorical variable) yang dirasa tidak relevan dengan kemungkinan pengguna melakukan churn! Visualisasikan hasil analisis dan bandingkan dengan analisis tanpa melakukan data cleansing! Bandingkan juga metrik evaluasi kedua analisis."
   ]
  },
  {
   "cell_type": "markdown",
   "metadata": {},
   "source": [
    "a.\tBerapa banyak sampel yang dibuang karena tidak sesuai syarat IQR?\n",
    "- 0 sampel. Tidak ada sampel yang dianggap outliers untuk variabel bebas numeriknya."
   ]
  },
  {
   "cell_type": "markdown",
   "metadata": {},
   "source": [
    "b.\tKolom apa saja yang dibuang? Mengapa?\n",
    "- Kolom gender dibuang karena pada saat EDA menggunakan function churn_nochurn menunjukan ratio churn : nochurn = 1 : 1"
   ]
  },
  {
   "cell_type": "markdown",
   "metadata": {},
   "source": [
    "c.\tBerapa perbedaan nilai setiap komponen dari metrik evaluasi dari model tanpa data cleansing dan model dengan data cleansing?\n",
    "## Decision Tree\n",
    "###### Training\n",
    "- Accuracy sebelum vs sesudah : Tidak berubah\n",
    "- Precision sebelum vs sesudah : Tidak berubah\n",
    "- Recall sebelum vs sesudah : Tidak berubah\n",
    "- F1-Score sebelum vs sesudah : Tidak berubah\n",
    "\n",
    "###### Testing\n",
    "- Accuracy sebelum vs sesudah : Tidak berubah\n",
    "- Precision sebelum vs sesudah : Tidak berubah\n",
    "- Recall sebelum vs sesudah : Tidak berubah\n",
    "- F1-Score sebelum vs sesudah : Tidak berubah\n",
    "\n",
    "Alasan tidak ada berubahnya hasil prediksi : Hanya satu kolom saja yang dibuang (gender) dan kolom tersebut tidak masuk ke dalam depth dari decision tree sehingga hasil prediksi tidak berubah sama sekali"
   ]
  },
  {
   "cell_type": "markdown",
   "metadata": {},
   "source": [
    "## Random Forest\n",
    "###### Training\n",
    "- Accuracy sebelum vs sesudah : Meningkat 0.53% dibandingkan model tanpa data cleansing\n",
    "- Precision sebelum vs sesudah : Ada perubahan untuk prediksi Churn(1), terjadi peningkatan sebesar 1%\n",
    "- Recall sebelum vs sesudah : Ada perubahan untuk prediksi Churn (1), terjadi peningkatan sebesar 2%\n",
    "- F1-Score sebelum vs sesudah : Ada perubahan untuk prediksi Churn (1), terjadi peningkatan sebesar 3%\n",
    "\n",
    "###### Testing\n",
    "- Accuracy sebelum vs sesudah : Meningkat sekitar 0.38 persen dibandingkan model tanpa data cleansing\n",
    "- Precision sebelum vs sesudah : Meningkat 1% untuk prediksi No Churn\n",
    "- Recall sebelum vs sesudah : Menurun 1% untuk prediksi No Churn, Meningkat 2% untuk prediksi Churn\n",
    "- F1-Score sebelum vs sesudah : Meningkat 1 persen untuk prediksi No Churn, menurun 7% untuk prediksi Churn\n",
    "\n",
    "Alasan adanya perubahan (tidak seperti DT) : Random Forest menggunakan metode Bagging, pada beberapa Decision Tree yang ada pada RF, kolom gender cukup berpengaruh pada gini index sehingga terjadi pemisahan lalu mempengaruhi kulitas prediksi"
   ]
  },
  {
   "cell_type": "markdown",
   "metadata": {},
   "source": [
    "d.\tApakah model baru overfitting? Mengapa?\n",
    "## Decision Tree\n",
    "Tidak mengalami overfitting. Penurunan dari accuracy training dan testing tidak terlalu signifikan\n",
    "## Random Forest\n",
    "Sedikit mengalami overfitting. Penurunan dari accuracy training dan testing sebesar 3%"
   ]
  },
  {
   "cell_type": "markdown",
   "metadata": {},
   "source": [
    "e.\tApakah dengan melakukan data cleansing hasil prediksi menjadi lebih baik? Mengapa? \n",
    "- Dilihat dari perbedaan metric, data cleansing yang dilakukan (membuang kolom gender saja) tidak membuat model menjadi lebih baik."
   ]
  },
  {
   "cell_type": "markdown",
   "metadata": {},
   "source": [
    "###### Kode untuk membentuk model prediksi baru ada pada file yang sama dengan model prediksi lama"
   ]
  },
  {
   "cell_type": "code",
   "execution_count": null,
   "metadata": {},
   "outputs": [],
   "source": []
  }
 ],
 "metadata": {
  "kernelspec": {
   "display_name": "Python 3",
   "language": "python",
   "name": "python3"
  },
  "language_info": {
   "codemirror_mode": {
    "name": "ipython",
    "version": 3
   },
   "file_extension": ".py",
   "mimetype": "text/x-python",
   "name": "python",
   "nbconvert_exporter": "python",
   "pygments_lexer": "ipython3",
   "version": "3.7.3"
  }
 },
 "nbformat": 4,
 "nbformat_minor": 2
}
