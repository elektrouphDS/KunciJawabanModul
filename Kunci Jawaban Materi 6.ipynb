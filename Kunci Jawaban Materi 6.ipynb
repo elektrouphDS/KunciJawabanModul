{
 "cells": [
  {
   "cell_type": "markdown",
   "metadata": {},
   "source": [
    "# KUNCI JAWABAN MATERI 6"
   ]
  },
  {
   "cell_type": "markdown",
   "metadata": {},
   "source": [
    "## 1) Apakah ada cara lain untuk storing model selain dengan pickle? Bagaimana cara kerjanya dan apa keuntungannya?"
   ]
  },
  {
   "cell_type": "markdown",
   "metadata": {},
   "source": [
    "Cara lain untuk melakukan model storing adalah menggunakan JSON. JSON melakukan storing model dengan readable human text format. Tidak seperti pickle, JSON tidak "
   ]
  },
  {
   "cell_type": "markdown",
   "metadata": {},
   "source": [
    "https://www.educba.com/python-pickle-vs-json/"
   ]
  },
  {
   "cell_type": "markdown",
   "metadata": {},
   "source": [
    "## 2)\tBuatlah sebuah web apps untuk melakukan prediksi harga rumah berdasarkan dataset Boston Housing yang telah dikerjakan pada Modul 4. Gunakan pickle dan Flask untuk membuat web application dan bentuk model yang sudah siap digunakan dengan Jupyter Notebook. "
   ]
  },
  {
   "cell_type": "markdown",
   "metadata": {},
   "source": [
    "a.\tPerubahan apa saja yang perlu dilakukan pada kode HTML agar model prediksi regresi bisa dibuat menjadi web apps?\n",
    "- Menambah field untuk input menjadi 13 field\n",
    "\n",
    "Perubahan pada Jupyter Notebook\n",
    "- Save model regresi menjadi pickle\n",
    "- Mengubah function reshape menjadi (1,13)\n",
    "- Mengubah nama - nama file yang digunakan sesuai dengan filename HTML"
   ]
  },
  {
   "cell_type": "markdown",
   "metadata": {},
   "source": [
    "b.\tApa yang akan terjadi bila user memasukan angka yang ekstrim pada setiap variabel bebas?  \n",
    "- Terjadi extrapolation, hasil prediksi menjadi tidak masuk akal"
   ]
  },
  {
   "cell_type": "markdown",
   "metadata": {},
   "source": [
    "###### Program baru untuk regression ada pada file terpisah. File tsb dapat ditemukan pada folder kunci jawaban materi 6"
   ]
  },
  {
   "cell_type": "code",
   "execution_count": null,
   "metadata": {},
   "outputs": [],
   "source": []
  }
 ],
 "metadata": {
  "kernelspec": {
   "display_name": "Python 3",
   "language": "python",
   "name": "python3"
  },
  "language_info": {
   "codemirror_mode": {
    "name": "ipython",
    "version": 3
   },
   "file_extension": ".py",
   "mimetype": "text/x-python",
   "name": "python",
   "nbconvert_exporter": "python",
   "pygments_lexer": "ipython3",
   "version": "3.7.3"
  }
 },
 "nbformat": 4,
 "nbformat_minor": 2
}
