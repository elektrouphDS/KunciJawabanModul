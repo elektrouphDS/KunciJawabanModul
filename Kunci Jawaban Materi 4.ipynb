{
 "cells": [
  {
   "cell_type": "markdown",
   "metadata": {},
   "source": [
    "# KUNCI JAWABAN MODUL 4"
   ]
  },
  {
   "cell_type": "markdown",
   "metadata": {},
   "source": [
    "### 1)\tDari seluruh variabel bebas, mana saja yang merupakan binary variable? "
   ]
  },
  {
   "cell_type": "markdown",
   "metadata": {},
   "source": [
    "Binary variable : CHAS."
   ]
  },
  {
   "cell_type": "markdown",
   "metadata": {},
   "source": [
    "### 2)\tVariabel bebas mana yang mempengaruhi variabel terikat secara signifikan? Mengapa?"
   ]
  },
  {
   "cell_type": "markdown",
   "metadata": {},
   "source": [
    "RM, LSTAT, AGE, DIS, PTRATIO"
   ]
  },
  {
   "cell_type": "markdown",
   "metadata": {},
   "source": [
    "Karena dari scatterplot antara variabel terikat dan bebas terlihat jelas ada hubungan linear. Terlihat trend garis lurus dengan kemiirngan tertentu untuk beberapa variabel."
   ]
  },
  {
   "cell_type": "markdown",
   "metadata": {},
   "source": [
    "### 3)\tApa maksud dari nilai koefisien yang positif dan negatif?"
   ]
  },
  {
   "cell_type": "markdown",
   "metadata": {},
   "source": [
    "Multiplier untuk setiap variabel bebas. Positif = semakin variabel bebas bertambah, maka variabel terikat akan bertambah, and vice versa."
   ]
  },
  {
   "cell_type": "markdown",
   "metadata": {},
   "source": [
    "### 4)\tApa itu Sum Residual dan Mean Square Error? Apa makna dari nilai yang ditampilkan? "
   ]
  },
  {
   "cell_type": "markdown",
   "metadata": {},
   "source": [
    "Sum Residual : jumlah total dari residual. Residual adalah jarak data dengan garis regresi."
   ]
  },
  {
   "cell_type": "markdown",
   "metadata": {},
   "source": [
    "Semakin besar sum residual, maka jarak data dari garis regresi semakin jauh."
   ]
  },
  {
   "cell_type": "markdown",
   "metadata": {},
   "source": [
    "## 5)\tBuatlah suatu analisis regresi baru dengan melakukan data cleansing untuk data yang tidak sesuai syarat IQR! Visualisasikan hasil analisis dan bandingkan dengan analisis tanpa melakukan data cleansing! Bandingkan juga metrik evaluasi kedua model untuk menentukan model mana yang lebih baik. \n",
    "a)\tBerapa banyak sampel yang terkategori sebagai outliers dengan syarat IQR?\n",
    "- 218 sampel"
   ]
  },
  {
   "cell_type": "markdown",
   "metadata": {},
   "source": [
    "b)\tBerapa sum residual dari analisis baru?\n",
    "- 680.8884830218554\n"
   ]
  },
  {
   "cell_type": "markdown",
   "metadata": {},
   "source": [
    "c)\tBerapa mean square error dari analisis baru?\n",
    "- 7.82630440255006 "
   ]
  },
  {
   "cell_type": "markdown",
   "metadata": {},
   "source": [
    "d)\tApakah dengan melakukan data cleansing hasil analisis menjadi lebih baik secara metrik evaluasi? Mengapa? \n",
    "- Secara metric, sum residual dan mse lebih kecil namun perlu diingat bahwa metric tsb akan ikut berkurang karena jumlah sampel berkurang hampir 50% dari jumlah sampel awal.\n",
    "- Secara visualisasi predicted price vs actual price, model tanpa data cleansing lebih banyak yang prediksinya dekat dengan regression line."
   ]
  },
  {
   "cell_type": "markdown",
   "metadata": {},
   "source": [
    "###### Kode & hasil visualisasi regresi yang baru ada pada file yang sama dengan regresi sebelumnya"
   ]
  },
  {
   "cell_type": "code",
   "execution_count": null,
   "metadata": {},
   "outputs": [],
   "source": []
  }
 ],
 "metadata": {
  "kernelspec": {
   "display_name": "Python 3",
   "language": "python",
   "name": "python3"
  },
  "language_info": {
   "codemirror_mode": {
    "name": "ipython",
    "version": 3
   },
   "file_extension": ".py",
   "mimetype": "text/x-python",
   "name": "python",
   "nbconvert_exporter": "python",
   "pygments_lexer": "ipython3",
   "version": "3.7.3"
  }
 },
 "nbformat": 4,
 "nbformat_minor": 2
}
