{
 "cells": [
  {
   "cell_type": "markdown",
   "metadata": {},
   "source": [
    "# KUNCI JAWABAN MODUL 2"
   ]
  },
  {
   "cell_type": "markdown",
   "metadata": {},
   "source": [
    "## Built-in Function Input"
   ]
  },
  {
   "cell_type": "code",
   "execution_count": 1,
   "metadata": {},
   "outputs": [
    {
     "name": "stdout",
     "output_type": "stream",
     "text": [
      "Nama : Rini\n",
      "NIM : 02030001\n",
      "Umur : 21\n",
      "Fakultas : FaSt\n",
      "Program Studi : Elektro\n",
      "Mahasiswa bernama Rini berumur 21 tahun. Rini adalah mahasiswa FaSt dan mengambil program studi Elektro. NIM Rini adalah 02030001.\n"
     ]
    }
   ],
   "source": [
    "nama = input('Nama : ')\n",
    "nim = input('NIM : ')\n",
    "umur = input('Umur : ')\n",
    "fakultas = input('Fakultas : ')\n",
    "prodi = input('Program Studi : ')\n",
    "\n",
    "print ('Mahasiswa bernama {a} berumur {c} tahun. {a} adalah mahasiswa {d} dan mengambil program studi {e}. NIM {a} adalah {b}.'.format(\n",
    "    a = nama, b = nim, c= umur, d=fakultas, e=prodi))"
   ]
  },
  {
   "cell_type": "markdown",
   "metadata": {},
   "source": [
    "## Nested-If"
   ]
  },
  {
   "cell_type": "code",
   "execution_count": 2,
   "metadata": {
    "scrolled": true
   },
   "outputs": [
    {
     "name": "stdout",
     "output_type": "stream",
     "text": [
      "Nilai a = 21\n",
      "Nilai b = 3\n",
      "Nilai c = 10\n",
      "W\n"
     ]
    }
   ],
   "source": [
    "a = int(input ('Nilai a = '))\n",
    "b = int(input ('Nilai b = '))\n",
    "c = int(input ('Nilai c = '))\n",
    "\n",
    "if (a > 10) :\n",
    "    if (b >= 5) :\n",
    "        print ('V')\n",
    "    else :\n",
    "        print ('W')\n",
    "elif (a < 10) :\n",
    "    if (c > 7) :\n",
    "        print ('X')\n",
    "    elif (c <= 7) :\n",
    "        print('Y')\n",
    "else :\n",
    "    print ('Z')"
   ]
  },
  {
   "cell_type": "markdown",
   "metadata": {},
   "source": [
    "## Nested Loop"
   ]
  },
  {
   "cell_type": "code",
   "execution_count": 3,
   "metadata": {},
   "outputs": [
    {
     "name": "stdout",
     "output_type": "stream",
     "text": [
      "panjang persegi : 3\n",
      "lebar persegi : 3\n",
      "*  *  *  \n",
      "*  *  *  \n",
      "*  *  *  \n"
     ]
    }
   ],
   "source": [
    "panjang = int(input('panjang persegi : '))\n",
    "lebar = int(input ('lebar persegi : '))\n",
    "\n",
    "for i in range(lebar):\n",
    "    for j in range (panjang):\n",
    "        print('*  ', end = '')\n",
    "    print('')"
   ]
  },
  {
   "cell_type": "markdown",
   "metadata": {},
   "source": [
    "## Function, Mapping, Lambda Expression"
   ]
  },
  {
   "cell_type": "code",
   "execution_count": 4,
   "metadata": {},
   "outputs": [],
   "source": [
    "def square_maker ():\n",
    "    panjang = int(input('panjang persegi : '))\n",
    "    lebar = int(input ('lebar persegi : '))\n",
    "\n",
    "    for i in range(lebar):\n",
    "        for j in range (panjang):\n",
    "            print('*  ', end = '')\n",
    "        print('')"
   ]
  },
  {
   "cell_type": "code",
   "execution_count": 5,
   "metadata": {},
   "outputs": [
    {
     "name": "stdout",
     "output_type": "stream",
     "text": [
      "panjang persegi : 4\n",
      "lebar persegi : 4\n",
      "*  *  *  *  \n",
      "*  *  *  *  \n",
      "*  *  *  *  \n",
      "*  *  *  *  \n"
     ]
    }
   ],
   "source": [
    "square_maker()"
   ]
  },
  {
   "cell_type": "code",
   "execution_count": 6,
   "metadata": {},
   "outputs": [
    {
     "data": {
      "text/plain": [
       "[4.1866666666666665,\n",
       " 33.49333333333333,\n",
       " 113.04,\n",
       " 267.94666666666666,\n",
       " 523.3333333333334,\n",
       " 904.32]"
      ]
     },
     "execution_count": 6,
     "metadata": {},
     "output_type": "execute_result"
    }
   ],
   "source": [
    "listofnum = [1,2,3,4,5,6]\n",
    "list(map (lambda x: ((x)**3)*4*3.14/3, listofnum))"
   ]
  },
  {
   "cell_type": "markdown",
   "metadata": {},
   "source": [
    "# Pertanyaan"
   ]
  },
  {
   "cell_type": "markdown",
   "metadata": {},
   "source": [
    "## 1.\tPada program A, jika pada function input NIM dimasukkan 02030001 lalu dikonversi menjadi suatu integer, apa hasil print yang dikeluarkan?"
   ]
  },
  {
   "cell_type": "markdown",
   "metadata": {},
   "source": [
    "##### Hasil yang keluar adalah 2030001, karena integer tidak menghitung '0' pada bagian awal."
   ]
  },
  {
   "cell_type": "code",
   "execution_count": 7,
   "metadata": {},
   "outputs": [
    {
     "name": "stdout",
     "output_type": "stream",
     "text": [
      "Nama : Rini\n",
      "NIM : 02030001\n",
      "Umur : 21\n",
      "Fakultas : FaST\n",
      "Program Studi : Elektro\n",
      "Mahasiswa bernama Rini berumur 21 tahun. Rini adalah mahasiswa FaST dan mengambil program studi Elektro. NIM Rini adalah 2030001.\n"
     ]
    }
   ],
   "source": [
    "nama = input('Nama : ')\n",
    "nim = int(input('NIM : '))\n",
    "umur = input('Umur : ')\n",
    "fakultas = input('Fakultas : ')\n",
    "prodi = input('Program Studi : ')\n",
    "\n",
    "print ('Mahasiswa bernama {a} berumur {c} tahun. {a} adalah mahasiswa {d} dan mengambil program studi {e}. NIM {a} adalah {b}.'.format(\n",
    "    a = nama, b = nim, c= umur, d=fakultas, e=prodi))"
   ]
  },
  {
   "cell_type": "markdown",
   "metadata": {},
   "source": [
    "## 2.\tBagaimana cara agar keluaran program A menghasilkan kalimat yang seluruhnya berhuruf kapital?  "
   ]
  },
  {
   "cell_type": "markdown",
   "metadata": {},
   "source": [
    "##### Gunakan function .upper() untuk mengubah setiap elemen dalam string menjadi uppercase"
   ]
  },
  {
   "cell_type": "code",
   "execution_count": 8,
   "metadata": {},
   "outputs": [
    {
     "name": "stdout",
     "output_type": "stream",
     "text": [
      "Nama : Rini\n",
      "NIM : 02030001\n",
      "Umur : 21\n",
      "Fakultas : FaST\n",
      "Program Studi : Elektro\n",
      "MAHASISWA BERNAMA RINI BERUMUR 21 TAHUN. RINI ADALAH MAHASISWA FAST DAN MENGAMBIL PROGRAM STUDI ELEKTRO. NIM RINI ADALAH 2030001.\n"
     ]
    }
   ],
   "source": [
    "nama = input('Nama : ')\n",
    "nim = int(input('NIM : '))\n",
    "umur = input('Umur : ')\n",
    "fakultas = input('Fakultas : ')\n",
    "prodi = input('Program Studi : ')\n",
    "\n",
    "print ('Mahasiswa bernama {a} berumur {c} tahun. {a} adalah mahasiswa {d} dan mengambil program studi {e}. NIM {a} adalah {b}.'.format(\n",
    "    a = nama, b = nim, c= umur, d=fakultas, e=prodi).upper())"
   ]
  },
  {
   "cell_type": "markdown",
   "metadata": {},
   "source": [
    "## 3.\tBagaimana cara agar keluaran program A menghasilkan kalimat tanpa ada huruf vokal?  Buatlah program yang dimodifikasi tersebut pada file notebook yang sama!"
   ]
  },
  {
   "cell_type": "code",
   "execution_count": 9,
   "metadata": {},
   "outputs": [
    {
     "name": "stdout",
     "output_type": "stream",
     "text": [
      "Nama : Rini\n",
      "NIM : 02030001\n",
      "Umur : 21\n",
      "Fakultas : FaST\n",
      "Program Studi : Elektro\n",
      "Mhssw brnm Rn brmr 21 thn. Rn dlh mhssw FST dn mngmbl prgrm std lktr. NM Rn dlh 2030001.\n"
     ]
    }
   ],
   "source": [
    "nama = input('Nama : ')\n",
    "nim = int(input('NIM : '))\n",
    "umur = input('Umur : ')\n",
    "fakultas = input('Fakultas : ')\n",
    "prodi = input('Program Studi : ')\n",
    "\n",
    "string = 'Mahasiswa bernama {a} berumur {c} tahun. {a} adalah mahasiswa {d} dan mengambil program studi {e}. NIM {a} adalah {b}.'.format(\n",
    "    a = nama, b = nim, c= umur, d=fakultas, e=prodi)\n",
    "new_string=''\n",
    "vowels = ('a', 'i', 'u', 'e', 'o', 'A', 'I', 'U', 'E', 'O')\n",
    "for i in string:\n",
    "    if i in vowels:\n",
    "        a=1\n",
    "    else:\n",
    "        new_string = new_string+i\n",
    "\n",
    "print(new_string)"
   ]
  },
  {
   "cell_type": "markdown",
   "metadata": {},
   "source": [
    "## 4. Apa keluaran program pada program B jika user memasukkan input dengan skenario sebagai berikut?"
   ]
  },
  {
   "cell_type": "code",
   "execution_count": 10,
   "metadata": {},
   "outputs": [
    {
     "name": "stdout",
     "output_type": "stream",
     "text": [
      "Nilai a = 20\n",
      "Nilai b = 3\n",
      "Nilai c = 7\n",
      "W\n",
      "Nilai a = 15\n",
      "Nilai b = 2\n",
      "Nilai c = 8\n",
      "W\n",
      "Nilai a = 9\n",
      "Nilai b = 2\n",
      "Nilai c = 4\n",
      "Y\n",
      "Nilai a = 14\n",
      "Nilai b = 15\n",
      "Nilai c = 3\n",
      "V\n",
      "Nilai a = 1\n",
      "Nilai b = 7\n",
      "Nilai c = 10\n",
      "X\n",
      "Nilai a = 10\n",
      "Nilai b = 1\n",
      "Nilai c = 6\n",
      "Z\n",
      "Nilai a = 2\n",
      "Nilai b = 3\n",
      "Nilai c = 1\n",
      "Y\n",
      "Nilai a = 11\n",
      "Nilai b = 5\n",
      "Nilai c = 8\n",
      "V\n",
      "Nilai a = 4\n",
      "Nilai b = 6\n",
      "Nilai c = 7\n",
      "Y\n",
      "Nilai a = 9\n",
      "Nilai b = 1\n",
      "Nilai c = 9\n",
      "X\n",
      "Nilai a = 10\n",
      "Nilai b = 9\n",
      "Nilai c = 9\n",
      "Z\n",
      "Nilai a = 3\n",
      "Nilai b = 7\n",
      "Nilai c = 4\n",
      "Y\n"
     ]
    }
   ],
   "source": [
    "for i in range (12):\n",
    "    a = int(input ('Nilai a = '))\n",
    "    b = int(input ('Nilai b = '))\n",
    "    c = int(input ('Nilai c = '))\n",
    "\n",
    "    if (a > 10) :\n",
    "        if (b >= 5) :\n",
    "            print ('V')\n",
    "        else :\n",
    "            print ('W')\n",
    "    elif (a < 10) :\n",
    "        if (c > 7) :\n",
    "            print ('X')\n",
    "        elif (c <= 7) :\n",
    "            print('Y')\n",
    "    else :\n",
    "        print ('Z')"
   ]
  },
  {
   "cell_type": "markdown",
   "metadata": {},
   "source": [
    "## 5.\tBuatlah program untuk menampilkan bentuk jajaran genjang. User akan memasukkan dua variabel yaitu panjang dan tinggi.\n",
    "Keluaran seperti apa yang akan muncul jika user memasukan angka 2 dan 4? "
   ]
  },
  {
   "cell_type": "code",
   "execution_count": 11,
   "metadata": {},
   "outputs": [
    {
     "name": "stdout",
     "output_type": "stream",
     "text": [
      "panjang : 2\n",
      "tinggi : 4\n",
      "*  *  \n",
      "  *  *  \n",
      "    *  *  \n",
      "      *  *  \n",
      "        "
     ]
    }
   ],
   "source": [
    "panjang= int(input('panjang : '))\n",
    "tinggi = int(input ('tinggi : '))\n",
    "space = 1\n",
    "for i in range (tinggi):\n",
    "    for j in range (panjang):\n",
    "        print ('*  ', end='')\n",
    "    print ('')\n",
    "    for k in range (space):\n",
    "        print ('  ', end='')\n",
    "    space = space +1"
   ]
  },
  {
   "cell_type": "markdown",
   "metadata": {},
   "source": [
    "## 6.\tApa perbedaan antara function dan lambda expression?\t \n",
    "Buatlah suatu readme file pada folder Modul 2 GitHub pribadi anda dan jelaskan apa yang membedakan antara function dan lambda expression. \n",
    "Buatlah penjelasan dengan menyertakan gambar contoh function yang disederhanakan menjadi suatu lambda expression.\n"
   ]
  },
  {
   "cell_type": "markdown",
   "metadata": {},
   "source": [
    "##### Function adalah sekumpulan code yang dapat digunakan berkali - kali"
   ]
  },
  {
   "cell_type": "markdown",
   "metadata": {},
   "source": [
    "##### Lambda Expression adalah function yang diringkas menjadi function anonimus"
   ]
  },
  {
   "cell_type": "code",
   "execution_count": 12,
   "metadata": {},
   "outputs": [],
   "source": [
    "def square (x):\n",
    "    a = x*x\n",
    "    return a"
   ]
  },
  {
   "cell_type": "code",
   "execution_count": 13,
   "metadata": {},
   "outputs": [],
   "source": [
    "def square (x):\n",
    "    return (x*x)"
   ]
  },
  {
   "cell_type": "code",
   "execution_count": 14,
   "metadata": {},
   "outputs": [
    {
     "data": {
      "text/plain": [
       "<function __main__.<lambda>(x)>"
      ]
     },
     "execution_count": 14,
     "metadata": {},
     "output_type": "execute_result"
    }
   ],
   "source": [
    "lambda x: x*x"
   ]
  },
  {
   "cell_type": "markdown",
   "metadata": {},
   "source": [
    "## 7.\tApa  perbedaan antara function, method, dan property? Jelaskan perbedaan antara ketiganya pada file readme yang sama!"
   ]
  },
  {
   "cell_type": "markdown",
   "metadata": {},
   "source": [
    "Function : sekumpulan kode independen yang bisa dipanggil berkali - kali sehingga lebih praktis"
   ]
  },
  {
   "cell_type": "markdown",
   "metadata": {},
   "source": [
    "Method : function yang terhubung dengan suatu class pada object oriented programming (OOP)"
   ]
  },
  {
   "cell_type": "markdown",
   "metadata": {},
   "source": [
    "\n",
    "Properties : sebutan pada OOP yang berfungsi untuk mengambil value atau mengatur value"
   ]
  },
  {
   "cell_type": "code",
   "execution_count": null,
   "metadata": {},
   "outputs": [],
   "source": []
  }
 ],
 "metadata": {
  "kernelspec": {
   "display_name": "Python 3",
   "language": "python",
   "name": "python3"
  },
  "language_info": {
   "codemirror_mode": {
    "name": "ipython",
    "version": 3
   },
   "file_extension": ".py",
   "mimetype": "text/x-python",
   "name": "python",
   "nbconvert_exporter": "python",
   "pygments_lexer": "ipython3",
   "version": "3.7.3"
  }
 },
 "nbformat": 4,
 "nbformat_minor": 2
}
